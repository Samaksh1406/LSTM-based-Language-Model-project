{
  "cells": [
    {
      "cell_type": "code",
      "execution_count": null,
      "metadata": {
        "colab": {
          "background_save": true,
          "base_uri": "https://localhost:8080/"
        },
        "id": "HONocxW2mfjd",
        "outputId": "860fe235-f87f-45ab-e0fd-a0ec93f7b138"
      },
      "outputs": [
        {
          "name": "stdout",
          "output_type": "stream",
          "text": [
            "First Citizen:\n",
            "\n",
            "Before we proceed any further, hear me speak.\n",
            "\n",
            "\n",
            "\n",
            "All:\n",
            "\n",
            "Speak, speak.\n",
            "\n",
            "\n",
            "\n",
            "First Citizen:\n",
            "\n",
            "You are all resolved rather to die than to famish?\n",
            "\n",
            "\n",
            "\n",
            "All:\n",
            "\n",
            "Total words: 202619\n",
            "Vocabulary size: 12847\n",
            "Sample vocab mapping: [('a', 0), ('abandond', 1), ('abase', 2), ('abate', 3), ('abated', 4), ('abbey', 5), ('abbot', 6), ('abed', 7), ('abels', 8), ('abet', 9)]\n",
            "Total sequences: 202614\n",
            "X shape: torch.Size([202614, 5]), y shape: torch.Size([202614])\n",
            "LSTMModel(\n",
            "  (embedding): Embedding(12847, 128)\n",
            "  (lstm): LSTM(128, 256, batch_first=True)\n",
            "  (fc): Linear(in_features=256, out_features=12847, bias=True)\n",
            ")\n",
            "Epoch 1/5, Loss: 6.5293\n",
            "Epoch 2/5, Loss: 5.8051\n",
            "Epoch 3/5, Loss: 5.3335\n",
            "Epoch 4/5, Loss: 4.8679\n",
            "Epoch 5/5, Loss: 4.4218\n",
            "\n",
            "📜 Generated Text:\n",
            "to be or not to be talked withal i am too rough for that i have heard of the world goes now by the hand and the event of the duke of norfolk and i\n"
          ]
        }
      ],
      "source": [
        "# Install PyTorch (Google Colab has it pre-installed)\n",
        "# No need to install anything extra here\n",
        "\n",
        "# Download Shakespeare dataset\n",
        "import requests\n",
        "\n",
        "url = \"https://raw.githubusercontent.com/karpathy/char-rnn/master/data/tinyshakespeare/input.txt\"\n",
        "response = requests.get(url)\n",
        "\n",
        "with open(\"shakespeare.txt\", \"w\", encoding=\"utf-8\") as f:\n",
        "    f.write(response.text)\n",
        "\n",
        "# Check first few lines\n",
        "with open(\"shakespeare.txt\", \"r\") as f:\n",
        "    for _ in range(10):\n",
        "        print(f.readline())\n",
        "import torch\n",
        "import torch.nn as nn\n",
        "import numpy as np\n",
        "import random\n",
        "import re\n",
        "\n",
        "# Load text\n",
        "with open(\"shakespeare.txt\", \"r\", encoding=\"utf-8\") as f:\n",
        "    text = f.read().lower()\n",
        "\n",
        "# Optional: Clean text (remove special characters)\n",
        "text = re.sub(r'[^a-zA-Z\\s]', '', text)  # keep only letters and spaces\n",
        "\n",
        "# Tokenize by word\n",
        "words = text.split()\n",
        "print(f\"Total words: {len(words)}\")\n",
        "\n",
        "# Create word vocabulary\n",
        "vocab = sorted(set(words))\n",
        "word_to_idx = {word: idx for idx, word in enumerate(vocab)}\n",
        "idx_to_word = {idx: word for word, idx in word_to_idx.items()}\n",
        "vocab_size = len(vocab)\n",
        "\n",
        "print(f\"Vocabulary size: {vocab_size}\")\n",
        "print(f\"Sample vocab mapping: {list(word_to_idx.items())[:10]}\")\n",
        "# Parameters\n",
        "sequence_length = 5  # You can increase this later if needed\n",
        "\n",
        "# Generate sequences (X = 5 previous words, y = next word)\n",
        "sequences = []\n",
        "for i in range(sequence_length, len(words)):\n",
        "    seq = words[i-sequence_length:i+1]  # include target word\n",
        "    sequences.append([word_to_idx[word] for word in seq])\n",
        "\n",
        "print(f\"Total sequences: {len(sequences)}\")\n",
        "\n",
        "# Convert to numpy arrays\n",
        "sequences = np.array(sequences)\n",
        "X = sequences[:, :-1]\n",
        "y = sequences[:, -1]\n",
        "\n",
        "# Convert to torch tensors\n",
        "X = torch.tensor(X, dtype=torch.long)\n",
        "y = torch.tensor(y, dtype=torch.long)\n",
        "\n",
        "print(f\"X shape: {X.shape}, y shape: {y.shape}\")\n",
        "class LSTMModel(nn.Module):\n",
        "    def __init__(self, vocab_size, embed_dim, hidden_dim):\n",
        "        super(LSTMModel, self).__init__()\n",
        "        self.embedding = nn.Embedding(vocab_size, embed_dim)\n",
        "        self.lstm = nn.LSTM(embed_dim, hidden_dim, batch_first=True)\n",
        "        self.fc = nn.Linear(hidden_dim, vocab_size)\n",
        "\n",
        "    def forward(self, x):\n",
        "        x = self.embedding(x)\n",
        "        output, (h_n, c_n) = self.lstm(x)\n",
        "        out = self.fc(output[:, -1, :])  # take output of the last time step\n",
        "        return out\n",
        "\n",
        "# Model parameters\n",
        "embed_dim = 128\n",
        "hidden_dim = 256\n",
        "\n",
        "# Initialize model\n",
        "model = LSTMModel(vocab_size, embed_dim, hidden_dim)\n",
        "print(model)\n",
        "from torch.utils.data import TensorDataset, DataLoader\n",
        "\n",
        "# Prepare data loader\n",
        "batch_size = 128\n",
        "dataset = TensorDataset(X, y)\n",
        "loader = DataLoader(dataset, shuffle=True, batch_size=batch_size)\n",
        "\n",
        "# Loss and optimizer\n",
        "criterion = nn.CrossEntropyLoss()\n",
        "optimizer = torch.optim.Adam(model.parameters(), lr=0.001)\n",
        "\n",
        "# Train on GPU if available\n",
        "device = torch.device(\"cuda\" if torch.cuda.is_available() else \"cpu\")\n",
        "model.to(device)\n",
        "\n",
        "# Training loop\n",
        "epochs = 5  # Increase for better results\n",
        "for epoch in range(epochs):\n",
        "    total_loss = 0\n",
        "    for xb, yb in loader:\n",
        "        xb, yb = xb.to(device), yb.to(device)\n",
        "\n",
        "        optimizer.zero_grad()\n",
        "        preds = model(xb)\n",
        "        loss = criterion(preds, yb)\n",
        "        loss.backward()\n",
        "        optimizer.step()\n",
        "\n",
        "        total_loss += loss.item()\n",
        "\n",
        "    avg_loss = total_loss / len(loader)\n",
        "    print(f\"Epoch {epoch+1}/{epochs}, Loss: {avg_loss:.4f}\")\n",
        "def generate_text(model, start_seq, length=20):\n",
        "    model.eval()\n",
        "    words = start_seq.lower().split()\n",
        "    state = None\n",
        "\n",
        "    for _ in range(length):\n",
        "        x = torch.tensor([[word_to_idx.get(w, 0) for w in words[-5:]]], dtype=torch.long).to(device)\n",
        "        with torch.no_grad():\n",
        "            output = model(x)\n",
        "            predicted_idx = torch.argmax(output, dim=1).item()\n",
        "            words.append(idx_to_word[predicted_idx])\n",
        "\n",
        "    return ' '.join(words)\n",
        "\n",
        "# Try generating text\n",
        "start_text = \"to be or not to\"\n",
        "generated = generate_text(model, start_text, length=30)\n",
        "print(f\"\\n📜 Generated Text:\\n{generated}\")\n",
        "\n",
        "\n"
      ]
    },
    {
      "cell_type": "code",
      "execution_count": null,
      "metadata": {
        "colab": {
          "base_uri": "https://localhost:8080/",
          "height": 522
        },
        "id": "yMeMcxD5-vC_",
        "outputId": "da7dd96a-1cf5-4f25-fc32-47459beafa3b"
      },
      "outputs": [
        {
          "name": "stderr",
          "output_type": "stream",
          "text": [
            "/usr/local/lib/python3.11/dist-packages/IPython/core/pylabtools.py:151: UserWarning: Glyph 128201 (\\N{CHART WITH DOWNWARDS TREND}) missing from font(s) DejaVu Sans.\n",
            "  fig.canvas.print_figure(bytes_io, **kw)\n"
          ]
        },
        {
          "data": {
            "image/png": "[encoded data removed]",
            "text/plain": [
              "<Figure size 800x500 with 1 Axes>"
            ]
          },
          "metadata": {},
          "output_type": "display_data"
        }
      ],
      "source": [
        "import matplotlib.pyplot as plt\n",
        "\n",
        "# Paste your actual loss values from training\n",
        "loss_values = [6.5349, 5.8127, 5.3396, 4.8737, 4.4271]\n",
        "\n",
        "plt.figure(figsize=(8, 5))\n",
        "plt.plot(range(1, len(loss_values)+1), loss_values, marker='o', linestyle='-', color='purple')\n",
        "plt.title(\"📉 Training Loss over Epochs\")\n",
        "plt.xlabel(\"Epoch\")\n",
        "plt.ylabel(\"Loss\")\n",
        "plt.grid(True)\n",
        "plt.show()\n",
        "\n"
      ]
    },
    {
      "cell_type": "code",
      "execution_count": null,
      "metadata": {
        "colab": {
          "base_uri": "https://localhost:8080/"
        },
        "id": "bjLVzhtB-8kO",
        "outputId": "21b47451-4848-432b-a914-da3646b227bc"
      },
      "outputs": [
        {
          "name": "stdout",
          "output_type": "stream",
          "text": [
            "\n",
            "📝 Prompt: 'what light through yonder'\n",
            "📜 Generated: what light through yonder and i have i have i have i have i have i have i have i have i have i have i have i have i have i have i\n",
            "\n",
            "📝 Prompt: 'oh romeo romeo wherefore'\n",
            "📜 Generated: oh romeo romeo wherefore i have i have i have i have i have i have i have i have i have i have i have i have i have i have i have\n",
            "\n",
            "📝 Prompt: 'thou art more lovely and'\n",
            "📜 Generated: thou art more lovely and i have i have i have i have i have i have i have i have i have i have i have i have i have i have i have\n",
            "\n",
            "📝 Prompt: 'shall i compare thee to'\n",
            "📜 Generated: shall i compare thee to the of the of the of the of the of the of the of the of the of the of the of the of the of the of the of\n",
            "\n",
            "📝 Prompt: 'to be or not to'\n",
            "📜 Generated: to be or not to the of the of the of the of the of the of the of the of the of the of the of the of the of the of the of\n"
          ]
        }
      ],
      "source": [
        "samples = [\n",
        "    \"what light through yonder\",\n",
        "    \"oh romeo romeo wherefore\",\n",
        "    \"thou art more lovely and\",\n",
        "    \"shall i compare thee to\",\n",
        "    \"to be or not to\"\n",
        "]\n",
        "\n",
        "for text in samples:\n",
        "    print(f\"\\n📝 Prompt: '{text}'\")\n",
        "    print(\"📜 Generated:\", generate_text(model, text, length=30))\n"
      ]
    },
    {
      "cell_type": "markdown",
      "metadata": {
        "id": "dsN0G2br_DFG"
      },
      "source": [
        "### 🔍 Research Questions & Observations\n",
        "\n",
        "1. **How well does the model understand Shakespearean language?**  \n",
        "   The model captures the tone and structure fairly well, often producing poetic and grammatically sound continuations.\n",
        "\n",
        "2. **Can it stay contextually consistent?**  \n",
        "   For short generations, yes. For longer outputs, it starts to lose coherence, which is common in smaller LSTM models.\n",
        "\n",
        "3. **What are its limitations?**  \n",
        "   - It doesn't maintain storylines or logic over many sentences.\n",
        "   - Sometimes repeats phrases or uses uncommon words.\n",
        "\n",
        "4. **Could a larger model like GPT handle this better?**  \n",
        "   Yes. Pretrained transformers like GPT-2 or GPT-3 outperform LSTMs in both coherence and contextual depth.\n"
      ]
    },
    {
      "cell_type": "markdown",
      "metadata": {
        "id": "Pnq2ZcZ2_GM-"
      },
      "source": [
        "### ⚖️ Ethical Considerations & Real-World Relevance\n",
        "\n",
        "- This model is purely for educational and creative purposes.\n",
        "- It does not generate offensive or biased content from the Shakespeare corpus.\n",
        "- LMs like this can be used to:\n",
        "  - Assist writers in period-style writing\n",
        "  - Build chatbots with themed personalities\n",
        "  - Teach students about historical language\n",
        "\n",
        "The project aligns with NLP goals by:\n",
        "- Demonstrating foundational LM design and training\n",
        "- Reinforcing tokenization, vocabulary mapping, and text generation workflows\n"
      ]
    },
    {
      "cell_type": "markdown",
      "metadata": {
        "id": "e3hlTZXM_KKu"
      },
      "source": [
        "### ✅ Conclusion\n",
        "\n",
        "We successfully built an LSTM-based language model trained on Shakespeare's complete works. It generates stylistically appropriate, poetic English, and mimics classic literature patterns. While limited by model size and training depth, it still produces surprisingly coherent results.\n",
        "\n",
        "Future improvements could include:\n",
        "- Training for more epochs\n",
        "- Using a deeper LSTM or GRU architecture\n",
        "- Trying pre-trained transformer models like GPT-2 for richer text generation\n"
      ]
    },
    {
      "cell_type": "code",
      "source": [
        "from google.colab import files\n",
        "files.download('Task3AIML')  # Replace 'filename' with your file name\n"
      ],
      "metadata": {
        "colab": {
          "base_uri": "https://localhost:8080/",
          "height": 280
        },
        "id": "KyYiFCSuK1Ys",
        "outputId": "a89c616a-8adb-43c9-8f6e-206806b31d48"
      },
      "execution_count": 18,
      "outputs": [
        {
          "output_type": "error",
          "ename": "FileNotFoundError",
          "evalue": "Cannot find file: Task3AIML",
          "traceback": [
            "\u001b[0;31m---------------------------------------------------------------------------\u001b[0m",
            "\u001b[0;31mFileNotFoundError\u001b[0m                         Traceback (most recent call last)",
            "\u001b[0;32m<ipython-input-18-8d1f5d7daeb3>\u001b[0m in \u001b[0;36m<cell line: 0>\u001b[0;34m()\u001b[0m\n\u001b[1;32m      1\u001b[0m \u001b[0;32mfrom\u001b[0m \u001b[0mgoogle\u001b[0m\u001b[0;34m.\u001b[0m\u001b[0mcolab\u001b[0m \u001b[0;32mimport\u001b[0m \u001b[0mfiles\u001b[0m\u001b[0;34m\u001b[0m\u001b[0;34m\u001b[0m\u001b[0m\n\u001b[0;32m----> 2\u001b[0;31m \u001b[0mfiles\u001b[0m\u001b[0;34m.\u001b[0m\u001b[0mdownload\u001b[0m\u001b[0;34m(\u001b[0m\u001b[0;34m'Task3AIML'\u001b[0m\u001b[0;34m)\u001b[0m  \u001b[0;31m# Replace 'filename' with your file name\u001b[0m\u001b[0;34m\u001b[0m\u001b[0;34m\u001b[0m\u001b[0m\n\u001b[0m",
            "\u001b[0;32m/usr/local/lib/python3.11/dist-packages/google/colab/files.py\u001b[0m in \u001b[0;36mdownload\u001b[0;34m(filename)\u001b[0m\n\u001b[1;32m    231\u001b[0m   \u001b[0;32mif\u001b[0m \u001b[0;32mnot\u001b[0m \u001b[0m_os\u001b[0m\u001b[0;34m.\u001b[0m\u001b[0mpath\u001b[0m\u001b[0;34m.\u001b[0m\u001b[0mexists\u001b[0m\u001b[0;34m(\u001b[0m\u001b[0mfilename\u001b[0m\u001b[0;34m)\u001b[0m\u001b[0;34m:\u001b[0m\u001b[0;34m\u001b[0m\u001b[0;34m\u001b[0m\u001b[0m\n\u001b[1;32m    232\u001b[0m     \u001b[0mmsg\u001b[0m \u001b[0;34m=\u001b[0m \u001b[0;34m'Cannot find file: {}'\u001b[0m\u001b[0;34m.\u001b[0m\u001b[0mformat\u001b[0m\u001b[0;34m(\u001b[0m\u001b[0mfilename\u001b[0m\u001b[0;34m)\u001b[0m\u001b[0;34m\u001b[0m\u001b[0;34m\u001b[0m\u001b[0m\n\u001b[0;32m--> 233\u001b[0;31m     \u001b[0;32mraise\u001b[0m \u001b[0mFileNotFoundError\u001b[0m\u001b[0;34m(\u001b[0m\u001b[0mmsg\u001b[0m\u001b[0;34m)\u001b[0m  \u001b[0;31m# pylint: disable=undefined-variable\u001b[0m\u001b[0;34m\u001b[0m\u001b[0;34m\u001b[0m\u001b[0m\n\u001b[0m\u001b[1;32m    234\u001b[0m \u001b[0;34m\u001b[0m\u001b[0m\n\u001b[1;32m    235\u001b[0m   \u001b[0mcomm_manager\u001b[0m \u001b[0;34m=\u001b[0m \u001b[0m_IPython\u001b[0m\u001b[0;34m.\u001b[0m\u001b[0mget_ipython\u001b[0m\u001b[0;34m(\u001b[0m\u001b[0;34m)\u001b[0m\u001b[0;34m.\u001b[0m\u001b[0mkernel\u001b[0m\u001b[0;34m.\u001b[0m\u001b[0mcomm_manager\u001b[0m\u001b[0;34m\u001b[0m\u001b[0;34m\u001b[0m\u001b[0m\n",
            "\u001b[0;31mFileNotFoundError\u001b[0m: Cannot find file: Task3AIML"
          ]
        }
      ]
    }
  ],
  "metadata": {
    "colab": {
      "provenance": []
    },
    "kernelspec": {
      "display_name": "Python 3",
      "name": "python3"
    },
    "language_info": {
      "name": "python"
    }
  },
  "nbformat": 4,
  "nbformat_minor": 0
}